{
 "cells": [
  {
   "cell_type": "code",
   "execution_count": 2,
   "metadata": {},
   "outputs": [
    {
     "name": "stdout",
     "output_type": "stream",
     "text": [
      "Enter the length\n",
      "50\n"
     ]
    },
    {
     "data": {
      "text/plain": [
       "'IS9cP+M!-Qbl1aT@.3EDz}Axqyn*O/{oFWRfYL6t$egr4_#XC5'"
      ]
     },
     "execution_count": 2,
     "metadata": {},
     "output_type": "execute_result"
    }
   ],
   "source": [
    "import random as rnd\n",
    "def generate(len):\n",
    "    al = 'abcdefghijklmnopqrstuvwxyz'\n",
    "    Al = 'ABCDEFGHIJKLMNOPQRSTUVWXYZ'\n",
    "    nums = '123456789'\n",
    "    sym = '@!_{}[].*/$#-+&'\n",
    "    return ''.join(rnd.sample(al + Al + nums + sym,len))\n",
    "length = int(input('Enter the length\\n'))\n",
    "generate(length)"
   ]
  },
  {
   "cell_type": "markdown",
   "metadata": {},
   "source": [
    "GUI for the program"
   ]
  },
  {
   "cell_type": "code",
   "execution_count": 4,
   "metadata": {},
   "outputs": [],
   "source": [
    "from tkinter import *"
   ]
  },
  {
   "cell_type": "code",
   "execution_count": null,
   "metadata": {},
   "outputs": [],
   "source": [
    "root = Tk()\n",
    "myLabel = Label(root, text = \"Hello World!\")\n",
    "\n"
   ]
  }
 ],
 "metadata": {
  "kernelspec": {
   "display_name": "Python 3",
   "language": "python",
   "name": "python3"
  },
  "language_info": {
   "codemirror_mode": {
    "name": "ipython",
    "version": 3
   },
   "file_extension": ".py",
   "mimetype": "text/x-python",
   "name": "python",
   "nbconvert_exporter": "python",
   "pygments_lexer": "ipython3",
   "version": "3.8.5"
  }
 },
 "nbformat": 4,
 "nbformat_minor": 4
}
